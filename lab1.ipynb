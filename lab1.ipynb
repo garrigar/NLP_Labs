{
 "cells": [
  {
   "cell_type": "markdown",
   "metadata": {},
   "source": [
    "# Лабораторная работа №1\n",
    "\n",
    "Лабораторную работу необходимо выполнять в ***Google Colab***. Результат работы (в виде ссылки на notebook) выслать письмом на litvinov.vg@ssau.ru. В теме письма указывать ФИО полностью.\n",
    "\n",
    "Для выполнения задания необходимо подобрать корпус текстов (художественных) на английском языке. Объем корпуса должен составлять не менее $3 \\cdot 10^7$ символов. Далее все действия будут выполняться над выбранными данными. Для отладки алгоритмов лучше использовать не весь корпус, а лишь его часть."
   ]
  },
  {
   "cell_type": "code",
   "execution_count": 1,
   "metadata": {},
   "outputs": [],
   "source": [
    "CORPUS_FILENAME = 'yandex_corpus.txt'"
   ]
  },
  {
   "cell_type": "code",
   "execution_count": 2,
   "metadata": {},
   "outputs": [],
   "source": [
    "with open(CORPUS_FILENAME, 'r', encoding='utf8') as f:\n",
    "    text_ = f.read()"
   ]
  },
  {
   "cell_type": "code",
   "execution_count": 3,
   "metadata": {},
   "outputs": [
    {
     "data": {
      "text/plain": [
       "130838289"
      ]
     },
     "execution_count": 3,
     "metadata": {},
     "output_type": "execute_result"
    }
   ],
   "source": [
    "len(text_)"
   ]
  },
  {
   "cell_type": "markdown",
   "metadata": {},
   "source": [
    "#### Шаг №1\n",
    "Заменить все числа, которые представлены цифрами, их текстовым представлением (т.е. прописью). (1 = one, 23 = twenty three, 1042 = one thousand forty two, и т.п.). Методы библиотек не использовать, алгоритм необходимо написать самостоятельно."
   ]
  },
  {
   "cell_type": "code",
   "execution_count": 4,
   "metadata": {},
   "outputs": [],
   "source": [
    "LESS_THAN_TWENTY = [\n",
    "    'zero', 'one', 'two', 'three', 'four', 'five', 'six', 'seven', 'eight', 'nine', 'ten',\n",
    "    'eleven', 'twelve', 'thirteen', 'fourteen', 'fifteen', 'sixteen', 'seventeen', 'eighteen', 'nineteen'\n",
    "]\n",
    "\n",
    "TENTHS_LESS_THAN_HUNDRED = [\n",
    "    'zero', 'ten', 'twenty', 'thirty', 'forty', 'fifty', 'sixty', 'seventy', 'eighty', 'ninety'\n",
    "]\n",
    "\n",
    "PREFIXES_LLION = ['', 'mi', 'bi', 'tri', 'quadri', 'quinti', 'sexti', 'septi', 'octi']\n",
    "\n",
    "\n",
    "def transform_triple(n: int):\n",
    "    \n",
    "    if n == 0:\n",
    "        return 'zero'\n",
    "    \n",
    "    ans = []\n",
    "    \n",
    "    hundreds = n // 100\n",
    "    two_dig = n % 100\n",
    "    tens = two_dig // 10\n",
    "    ones = two_dig % 10\n",
    "\n",
    "    if hundreds > 0:\n",
    "        ans.append(LESS_THAN_TWENTY[hundreds])\n",
    "        ans.append('hundred')\n",
    "    if 0 < two_dig < 20:\n",
    "        ans.append(LESS_THAN_TWENTY[two_dig])\n",
    "    elif two_dig >= 20:\n",
    "        ans.append(TENTHS_LESS_THAN_HUNDRED[tens])\n",
    "        if ones:\n",
    "            ans.append(LESS_THAN_TWENTY[ones])\n",
    "    return ' '.join(ans)\n",
    "\n",
    "def transform_number(n: int):\n",
    "    \n",
    "    if n == 0:\n",
    "        return 'zero'\n",
    "    \n",
    "    ans = []\n",
    "    s = str(n)\n",
    "    triples = [int(s[::-1][i:i+3][::-1]) for i in range(0, len(s), 3)][::-1]\n",
    "    for i in range(len(triples)):\n",
    "        triple = triples[-i-1]\n",
    "        if triple == 0:\n",
    "            continue\n",
    "        if i == 0:\n",
    "            ans.append(transform_triple(triple))\n",
    "        elif i == 1:\n",
    "            ans.append(f'{transform_triple(triple)} thousand')\n",
    "        elif i < 10:\n",
    "            ans.append(f'{transform_triple(triple)} {PREFIXES_LLION[i-1]}llion')\n",
    "        else:\n",
    "            raise ValueError()\n",
    "    return ' '.join(ans[::-1])"
   ]
  },
  {
   "cell_type": "code",
   "execution_count": 5,
   "metadata": {},
   "outputs": [
    {
     "data": {
      "text/plain": [
       "'two billion eight hundred eighty million one thousand'"
      ]
     },
     "execution_count": 5,
     "metadata": {},
     "output_type": "execute_result"
    }
   ],
   "source": [
    "transform_number(2_880_001_000)"
   ]
  },
  {
   "cell_type": "code",
   "execution_count": 6,
   "metadata": {},
   "outputs": [
    {
     "data": {
      "text/plain": [
       "'eighteen quintillion four hundred forty six quadrillion seven hundred forty four trillion seventy three billion seven hundred nine million five hundred fifty one thousand six hundred fifteen'"
      ]
     },
     "execution_count": 6,
     "metadata": {},
     "output_type": "execute_result"
    }
   ],
   "source": [
    "transform_number(18_446_744_073_709_551_615)"
   ]
  },
  {
   "cell_type": "code",
   "execution_count": 7,
   "metadata": {},
   "outputs": [],
   "source": [
    "def replace_numbers(text: str):\n",
    "    \n",
    "    ans = []\n",
    "    cached_number = ''\n",
    "    last_was_digit = False\n",
    "    for ch in text:\n",
    "        if ch.isdigit():\n",
    "            if ch not in '0123456789':\n",
    "                continue            \n",
    "            cached_number += ch\n",
    "            last_was_digit = True\n",
    "            continue\n",
    "        else:\n",
    "            last_was_digit = False\n",
    "        \n",
    "        if not last_was_digit and len(cached_number) > 0:\n",
    "            ans.append(transform_number(int(cached_number)))\n",
    "            cached_number = ''\n",
    "        \n",
    "        ans.append(ch)\n",
    "    \n",
    "    return ''.join(ans)"
   ]
  },
  {
   "cell_type": "code",
   "execution_count": 8,
   "metadata": {},
   "outputs": [
    {
     "data": {
      "text/plain": [
       "'ninety nine red balloons | in the year of thirty nine | seventy four seventy five | and I would go five hundred miles'"
      ]
     },
     "execution_count": 8,
     "metadata": {},
     "output_type": "execute_result"
    }
   ],
   "source": [
    "replace_numbers('99 red balloons | in the year of 39 | 74 75 | and I would go 500 miles')"
   ]
  },
  {
   "cell_type": "code",
   "execution_count": 9,
   "metadata": {},
   "outputs": [],
   "source": [
    "text_ = replace_numbers(text_)"
   ]
  },
  {
   "cell_type": "code",
   "execution_count": 10,
   "metadata": {},
   "outputs": [
    {
     "data": {
      "text/plain": [
       "0"
      ]
     },
     "execution_count": 10,
     "metadata": {},
     "output_type": "execute_result"
    }
   ],
   "source": [
    "text_.count('0')"
   ]
  },
  {
   "cell_type": "markdown",
   "metadata": {},
   "source": [
    "#### Шаг №2\n",
    "Преобразовать текст к нижнему или верхнему регистру."
   ]
  },
  {
   "cell_type": "code",
   "execution_count": 11,
   "metadata": {},
   "outputs": [],
   "source": [
    "text_ = text_.lower()"
   ]
  },
  {
   "cell_type": "code",
   "execution_count": 12,
   "metadata": {},
   "outputs": [
    {
     "name": "stdout",
     "output_type": "stream",
     "text": [
      "this new development in harry's character may be a disappointment to those readers who enjoyed his old vindictive ways, but it also reinforces the position of pro-potter people who do not see beneath the surface appearance of the characters and plots.\n",
      "a nondisclosure clause in the final settlement (the band is back on elektra) prevents ulrich, an irrepressible motormouth, from providing any juicy contractual details.\n",
      "when you're eighteen or nineteen years old, you have that gang mentality in you\n"
     ]
    }
   ],
   "source": [
    "print(text_[:500])"
   ]
  },
  {
   "cell_type": "markdown",
   "metadata": {},
   "source": [
    "#### Cropping text"
   ]
  },
  {
   "cell_type": "code",
   "execution_count": 13,
   "metadata": {},
   "outputs": [],
   "source": [
    "text = text_[:3*10**7]"
   ]
  },
  {
   "cell_type": "markdown",
   "metadata": {},
   "source": [
    "#### Шаг №3\n",
    "Произвести токенезацию (токенами выступают слова), не учитывая знаки препинания (т.е. необходимо разбить текст на токены (лексемы)):\n",
    "* С помощью nltk.tokenize.RegexpTokenizer (тут необходимо вспомнить регулярные выражения [posix](https://ru.wikibooks.org/wiki/%D0%A0%D0%B5%D0%B3%D1%83%D0%BB%D1%8F%D1%80%D0%BD%D1%8B%D0%B5_%D0%B2%D1%8B%D1%80%D0%B0%D0%B6%D0%B5%D0%BD%D0%B8%D1%8F))."
   ]
  },
  {
   "cell_type": "code",
   "execution_count": 14,
   "metadata": {},
   "outputs": [],
   "source": [
    "from nltk.tokenize import RegexpTokenizer"
   ]
  },
  {
   "cell_type": "code",
   "execution_count": 15,
   "metadata": {},
   "outputs": [],
   "source": [
    "tokenizer = RegexpTokenizer('\\w+')"
   ]
  },
  {
   "cell_type": "code",
   "execution_count": 16,
   "metadata": {},
   "outputs": [
    {
     "data": {
      "text/plain": [
       "['this',\n",
       " 'new',\n",
       " 'development',\n",
       " 'in',\n",
       " 'harry',\n",
       " 's',\n",
       " 'character',\n",
       " 'may',\n",
       " 'be',\n",
       " 'a',\n",
       " 'disappointment',\n",
       " 'to',\n",
       " 'those',\n",
       " 'readers',\n",
       " 'who',\n",
       " 'enjoyed',\n",
       " 'his',\n",
       " 'old',\n",
       " 'vindictive',\n",
       " 'ways',\n",
       " 'but',\n",
       " 'it',\n",
       " 'also',\n",
       " 'reinforces',\n",
       " 'the',\n",
       " 'position',\n",
       " 'of',\n",
       " 'pro',\n",
       " 'potter',\n",
       " 'people',\n",
       " 'who',\n",
       " 'do',\n",
       " 'not',\n",
       " 'see',\n",
       " 'beneath',\n",
       " 'the',\n",
       " 'surface',\n",
       " 'appearance',\n",
       " 'of',\n",
       " 'the',\n",
       " 'characters',\n",
       " 'and',\n",
       " 'plots',\n",
       " 'a',\n",
       " 'nondisclosure',\n",
       " 'clause',\n",
       " 'in',\n",
       " 'the',\n",
       " 'final',\n",
       " 'settlement',\n",
       " 'the',\n",
       " 'band',\n",
       " 'is',\n",
       " 'back',\n",
       " 'on',\n",
       " 'elektra',\n",
       " 'prevents',\n",
       " 'ulrich',\n",
       " 'an',\n",
       " 'irrepressible',\n",
       " 'motormouth',\n",
       " 'from',\n",
       " 'providing',\n",
       " 'any',\n",
       " 'juicy',\n",
       " 'contractual',\n",
       " 'details',\n",
       " 'when',\n",
       " 'you',\n",
       " 're',\n",
       " 'eighteen',\n",
       " 'or',\n",
       " 'nineteen',\n",
       " 'years',\n",
       " 'old',\n",
       " 'you',\n",
       " 'have',\n",
       " 'that',\n",
       " 'gang',\n",
       " 'mentality',\n",
       " 'in',\n",
       " 'you']"
      ]
     },
     "execution_count": 16,
     "metadata": {},
     "output_type": "execute_result"
    }
   ],
   "source": [
    "tokenizer.tokenize(text[:500])"
   ]
  },
  {
   "cell_type": "markdown",
   "metadata": {},
   "source": [
    "* С помощью nltk.word_tokenize."
   ]
  },
  {
   "cell_type": "code",
   "execution_count": 17,
   "metadata": {},
   "outputs": [
    {
     "name": "stderr",
     "output_type": "stream",
     "text": [
      "[nltk_data] Downloading package punkt to\n",
      "[nltk_data]     C:\\Users\\Admin\\AppData\\Roaming\\nltk_data...\n",
      "[nltk_data]   Package punkt is already up-to-date!\n"
     ]
    },
    {
     "data": {
      "text/plain": [
       "True"
      ]
     },
     "execution_count": 17,
     "metadata": {},
     "output_type": "execute_result"
    }
   ],
   "source": [
    "import nltk\n",
    "nltk.download('punkt')"
   ]
  },
  {
   "cell_type": "code",
   "execution_count": 18,
   "metadata": {},
   "outputs": [
    {
     "data": {
      "text/plain": [
       "['this',\n",
       " 'new',\n",
       " 'development',\n",
       " 'in',\n",
       " 'harry',\n",
       " \"'s\",\n",
       " 'character',\n",
       " 'may',\n",
       " 'be',\n",
       " 'a',\n",
       " 'disappointment',\n",
       " 'to',\n",
       " 'those',\n",
       " 'readers',\n",
       " 'who',\n",
       " 'enjoyed',\n",
       " 'his',\n",
       " 'old',\n",
       " 'vindictive',\n",
       " 'ways',\n",
       " 'but',\n",
       " 'it',\n",
       " 'also',\n",
       " 'reinforces',\n",
       " 'the',\n",
       " 'position',\n",
       " 'of',\n",
       " 'pro-potter',\n",
       " 'people',\n",
       " 'who',\n",
       " 'do',\n",
       " 'not',\n",
       " 'see',\n",
       " 'beneath',\n",
       " 'the',\n",
       " 'surface',\n",
       " 'appearance',\n",
       " 'of',\n",
       " 'the',\n",
       " 'characters',\n",
       " 'and',\n",
       " 'plots',\n",
       " 'a',\n",
       " 'nondisclosure',\n",
       " 'clause',\n",
       " 'in',\n",
       " 'the',\n",
       " 'final',\n",
       " 'settlement',\n",
       " 'the',\n",
       " 'band',\n",
       " 'is',\n",
       " 'back',\n",
       " 'on',\n",
       " 'elektra',\n",
       " 'prevents',\n",
       " 'ulrich',\n",
       " 'an',\n",
       " 'irrepressible',\n",
       " 'motormouth',\n",
       " 'from',\n",
       " 'providing',\n",
       " 'any',\n",
       " 'juicy',\n",
       " 'contractual',\n",
       " 'details',\n",
       " 'when',\n",
       " 'you',\n",
       " \"'re\",\n",
       " 'eighteen',\n",
       " 'or',\n",
       " 'nineteen',\n",
       " 'years',\n",
       " 'old',\n",
       " 'you',\n",
       " 'have',\n",
       " 'that',\n",
       " 'gang',\n",
       " 'mentality',\n",
       " 'in',\n",
       " 'you']"
      ]
     },
     "execution_count": 18,
     "metadata": {},
     "output_type": "execute_result"
    }
   ],
   "source": [
    "import string\n",
    "tokens_with_punctuation = nltk.word_tokenize(text[:500])\n",
    "list(filter(lambda token: token not in string.punctuation, tokens_with_punctuation))"
   ]
  },
  {
   "cell_type": "code",
   "execution_count": 19,
   "metadata": {},
   "outputs": [],
   "source": [
    "# too slow\n",
    "# tokens_with_punctuation = nltk.word_tokenize(text)\n",
    "# tokens = list(filter(lambda token: token not in string.punctuation, tokens_with_punctuation))"
   ]
  },
  {
   "cell_type": "code",
   "execution_count": 20,
   "metadata": {},
   "outputs": [],
   "source": [
    "tokens = tokenizer.tokenize(text)"
   ]
  },
  {
   "cell_type": "code",
   "execution_count": 21,
   "metadata": {},
   "outputs": [
    {
     "data": {
      "text/plain": [
       "4934936"
      ]
     },
     "execution_count": 21,
     "metadata": {},
     "output_type": "execute_result"
    }
   ],
   "source": [
    "len(tokens)"
   ]
  },
  {
   "cell_type": "markdown",
   "metadata": {},
   "source": [
    "#### Шаг №4\n",
    "Произвести частотный анализ слов. Методы библиотек не использовать, т.е. алгоритм необходимо написать самостоятельно. Cохранить результат в выходной csv файл в порядке убывания частот. Формат выходного файла:\n",
    "\n",
    "| Word | Count |\n",
    "| --- | --- |\n",
    "| cat | 1000 |\n",
    "| dog | 300 |\n",
    "| .... | .... |\n",
    "| butterfly | 34 |"
   ]
  },
  {
   "cell_type": "code",
   "execution_count": 22,
   "metadata": {},
   "outputs": [],
   "source": [
    "counter = dict()\n",
    "for t in tokens:\n",
    "    counter[t] = counter.get(t, 0) + 1"
   ]
  },
  {
   "cell_type": "code",
   "execution_count": 23,
   "metadata": {},
   "outputs": [],
   "source": [
    "import pandas as pd"
   ]
  },
  {
   "cell_type": "code",
   "execution_count": 24,
   "metadata": {},
   "outputs": [
    {
     "data": {
      "text/html": [
       "<div>\n",
       "<style scoped>\n",
       "    .dataframe tbody tr th:only-of-type {\n",
       "        vertical-align: middle;\n",
       "    }\n",
       "\n",
       "    .dataframe tbody tr th {\n",
       "        vertical-align: top;\n",
       "    }\n",
       "\n",
       "    .dataframe thead th {\n",
       "        text-align: right;\n",
       "    }\n",
       "</style>\n",
       "<table border=\"1\" class=\"dataframe\">\n",
       "  <thead>\n",
       "    <tr style=\"text-align: right;\">\n",
       "      <th></th>\n",
       "      <th>Word</th>\n",
       "      <th>Count</th>\n",
       "    </tr>\n",
       "  </thead>\n",
       "  <tbody>\n",
       "    <tr>\n",
       "      <th>0</th>\n",
       "      <td>the</td>\n",
       "      <td>329140</td>\n",
       "    </tr>\n",
       "    <tr>\n",
       "      <th>1</th>\n",
       "      <td>of</td>\n",
       "      <td>181265</td>\n",
       "    </tr>\n",
       "    <tr>\n",
       "      <th>2</th>\n",
       "      <td>and</td>\n",
       "      <td>155180</td>\n",
       "    </tr>\n",
       "    <tr>\n",
       "      <th>3</th>\n",
       "      <td>to</td>\n",
       "      <td>134349</td>\n",
       "    </tr>\n",
       "    <tr>\n",
       "      <th>4</th>\n",
       "      <td>in</td>\n",
       "      <td>109490</td>\n",
       "    </tr>\n",
       "    <tr>\n",
       "      <th>...</th>\n",
       "      <td>...</td>\n",
       "      <td>...</td>\n",
       "    </tr>\n",
       "    <tr>\n",
       "      <th>99044</th>\n",
       "      <td>ests</td>\n",
       "      <td>1</td>\n",
       "    </tr>\n",
       "    <tr>\n",
       "      <th>99045</th>\n",
       "      <td>quantitive</td>\n",
       "      <td>1</td>\n",
       "    </tr>\n",
       "    <tr>\n",
       "      <th>99046</th>\n",
       "      <td>martialis</td>\n",
       "      <td>1</td>\n",
       "    </tr>\n",
       "    <tr>\n",
       "      <th>99047</th>\n",
       "      <td>kabuto</td>\n",
       "      <td>1</td>\n",
       "    </tr>\n",
       "    <tr>\n",
       "      <th>99048</th>\n",
       "      <td>frantskevich</td>\n",
       "      <td>1</td>\n",
       "    </tr>\n",
       "  </tbody>\n",
       "</table>\n",
       "<p>99049 rows × 2 columns</p>\n",
       "</div>"
      ],
      "text/plain": [
       "               Word   Count\n",
       "0               the  329140\n",
       "1                of  181265\n",
       "2               and  155180\n",
       "3                to  134349\n",
       "4                in  109490\n",
       "...             ...     ...\n",
       "99044          ests       1\n",
       "99045    quantitive       1\n",
       "99046     martialis       1\n",
       "99047        kabuto       1\n",
       "99048  frantskevich       1\n",
       "\n",
       "[99049 rows x 2 columns]"
      ]
     },
     "execution_count": 24,
     "metadata": {},
     "output_type": "execute_result"
    }
   ],
   "source": [
    "df = pd.DataFrame(data=list(counter.items()), columns=['Word', 'Count'])\n",
    "df = df.sort_values(by='Count', ascending=False, ignore_index=True)\n",
    "df"
   ]
  },
  {
   "cell_type": "code",
   "execution_count": 25,
   "metadata": {},
   "outputs": [],
   "source": [
    "df.to_csv('word_counts.csv', index=False)"
   ]
  },
  {
   "cell_type": "markdown",
   "metadata": {},
   "source": [
    "#### Шаг №5\n",
    "Произвести частотный анализ [N-грам](https://en.wikipedia.org/wiki/N-gram) и сохранить в выходной файл в порядке убывания частот (формат файла аналогичен предыдущему примеру, за исключением столбца Word, который заменяется на N-gram. В этой задаче можно использовать готовые библиотеки (смотрим состав библиотеки [NLTK](https://www.nltk.org/)). Формат выходного файла:\n",
    "\n",
    "| bigram | | Count |\n",
    "| --- | --- | --- |\n",
    "| cat | is | 1000 |\n",
    "| is | a | 300 |\n",
    "| .... | .... | .... |\n",
    "| the | fish | 34 |\n",
    "\n",
    "* Биграм"
   ]
  },
  {
   "cell_type": "code",
   "execution_count": 26,
   "metadata": {},
   "outputs": [],
   "source": [
    "from nltk import ngrams"
   ]
  },
  {
   "cell_type": "code",
   "execution_count": 27,
   "metadata": {},
   "outputs": [],
   "source": [
    "from collections import Counter"
   ]
  },
  {
   "cell_type": "code",
   "execution_count": 28,
   "metadata": {},
   "outputs": [],
   "source": [
    "bigrams = list(ngrams(tokens, 2))"
   ]
  },
  {
   "cell_type": "code",
   "execution_count": 29,
   "metadata": {},
   "outputs": [],
   "source": [
    "bigrams_counter = Counter(bigrams)"
   ]
  },
  {
   "cell_type": "code",
   "execution_count": 30,
   "metadata": {},
   "outputs": [
    {
     "data": {
      "text/html": [
       "<div>\n",
       "<style scoped>\n",
       "    .dataframe tbody tr th:only-of-type {\n",
       "        vertical-align: middle;\n",
       "    }\n",
       "\n",
       "    .dataframe tbody tr th {\n",
       "        vertical-align: top;\n",
       "    }\n",
       "\n",
       "    .dataframe thead th {\n",
       "        text-align: right;\n",
       "    }\n",
       "</style>\n",
       "<table border=\"1\" class=\"dataframe\">\n",
       "  <thead>\n",
       "    <tr style=\"text-align: right;\">\n",
       "      <th></th>\n",
       "      <th>bigram</th>\n",
       "      <th></th>\n",
       "      <th>Count</th>\n",
       "    </tr>\n",
       "  </thead>\n",
       "  <tbody>\n",
       "    <tr>\n",
       "      <th>0</th>\n",
       "      <td>of</td>\n",
       "      <td>the</td>\n",
       "      <td>48335</td>\n",
       "    </tr>\n",
       "    <tr>\n",
       "      <th>1</th>\n",
       "      <td>in</td>\n",
       "      <td>the</td>\n",
       "      <td>29129</td>\n",
       "    </tr>\n",
       "    <tr>\n",
       "      <th>2</th>\n",
       "      <td>to</td>\n",
       "      <td>the</td>\n",
       "      <td>16834</td>\n",
       "    </tr>\n",
       "    <tr>\n",
       "      <th>3</th>\n",
       "      <td>on</td>\n",
       "      <td>the</td>\n",
       "      <td>11849</td>\n",
       "    </tr>\n",
       "    <tr>\n",
       "      <th>4</th>\n",
       "      <td>and</td>\n",
       "      <td>the</td>\n",
       "      <td>11255</td>\n",
       "    </tr>\n",
       "    <tr>\n",
       "      <th>...</th>\n",
       "      <td>...</td>\n",
       "      <td>...</td>\n",
       "      <td>...</td>\n",
       "    </tr>\n",
       "    <tr>\n",
       "      <th>1464143</th>\n",
       "      <td>visitor</td>\n",
       "      <td>is</td>\n",
       "      <td>1</td>\n",
       "    </tr>\n",
       "    <tr>\n",
       "      <th>1464144</th>\n",
       "      <td>beneficial</td>\n",
       "      <td>it</td>\n",
       "      <td>1</td>\n",
       "    </tr>\n",
       "    <tr>\n",
       "      <th>1464145</th>\n",
       "      <td>molecular</td>\n",
       "      <td>doors</td>\n",
       "      <td>1</td>\n",
       "    </tr>\n",
       "    <tr>\n",
       "      <th>1464146</th>\n",
       "      <td>doors</td>\n",
       "      <td>if</td>\n",
       "      <td>1</td>\n",
       "    </tr>\n",
       "    <tr>\n",
       "      <th>1464147</th>\n",
       "      <td>london</td>\n",
       "      <td>brought</td>\n",
       "      <td>1</td>\n",
       "    </tr>\n",
       "  </tbody>\n",
       "</table>\n",
       "<p>1464148 rows × 3 columns</p>\n",
       "</div>"
      ],
      "text/plain": [
       "             bigram           Count\n",
       "0                of      the  48335\n",
       "1                in      the  29129\n",
       "2                to      the  16834\n",
       "3                on      the  11849\n",
       "4               and      the  11255\n",
       "...             ...      ...    ...\n",
       "1464143     visitor       is      1\n",
       "1464144  beneficial       it      1\n",
       "1464145   molecular    doors      1\n",
       "1464146       doors       if      1\n",
       "1464147      london  brought      1\n",
       "\n",
       "[1464148 rows x 3 columns]"
      ]
     },
     "execution_count": 30,
     "metadata": {},
     "output_type": "execute_result"
    }
   ],
   "source": [
    "df = pd.DataFrame(data=[(p1, p2, c) for (p1, p2), c in bigrams_counter.items()], columns=['bigram', '', 'Count'])\n",
    "df = df.sort_values(by='Count', ascending=False, ignore_index=True)\n",
    "df"
   ]
  },
  {
   "cell_type": "code",
   "execution_count": 31,
   "metadata": {},
   "outputs": [],
   "source": [
    "df.to_csv('bigram_counts.csv', index=False)"
   ]
  },
  {
   "cell_type": "markdown",
   "metadata": {},
   "source": [
    "* 3-грам"
   ]
  },
  {
   "cell_type": "code",
   "execution_count": 32,
   "metadata": {},
   "outputs": [],
   "source": [
    "trigrams = list(ngrams(tokens, 3))"
   ]
  },
  {
   "cell_type": "code",
   "execution_count": 33,
   "metadata": {},
   "outputs": [],
   "source": [
    "trigrams_counter = Counter(trigrams)"
   ]
  },
  {
   "cell_type": "code",
   "execution_count": 34,
   "metadata": {},
   "outputs": [
    {
     "data": {
      "text/html": [
       "<div>\n",
       "<style scoped>\n",
       "    .dataframe tbody tr th:only-of-type {\n",
       "        vertical-align: middle;\n",
       "    }\n",
       "\n",
       "    .dataframe tbody tr th {\n",
       "        vertical-align: top;\n",
       "    }\n",
       "\n",
       "    .dataframe thead th {\n",
       "        text-align: right;\n",
       "    }\n",
       "</style>\n",
       "<table border=\"1\" class=\"dataframe\">\n",
       "  <thead>\n",
       "    <tr style=\"text-align: right;\">\n",
       "      <th></th>\n",
       "      <th>trigram</th>\n",
       "      <th></th>\n",
       "      <th></th>\n",
       "      <th>Count</th>\n",
       "    </tr>\n",
       "  </thead>\n",
       "  <tbody>\n",
       "    <tr>\n",
       "      <th>0</th>\n",
       "      <td>thousand</td>\n",
       "      <td>nine</td>\n",
       "      <td>hundred</td>\n",
       "      <td>6458</td>\n",
       "    </tr>\n",
       "    <tr>\n",
       "      <th>1</th>\n",
       "      <td>one</td>\n",
       "      <td>thousand</td>\n",
       "      <td>nine</td>\n",
       "      <td>6354</td>\n",
       "    </tr>\n",
       "    <tr>\n",
       "      <th>2</th>\n",
       "      <td>in</td>\n",
       "      <td>one</td>\n",
       "      <td>thousand</td>\n",
       "      <td>2672</td>\n",
       "    </tr>\n",
       "    <tr>\n",
       "      <th>3</th>\n",
       "      <td>in</td>\n",
       "      <td>two</td>\n",
       "      <td>thousand</td>\n",
       "      <td>2446</td>\n",
       "    </tr>\n",
       "    <tr>\n",
       "      <th>4</th>\n",
       "      <td>nine</td>\n",
       "      <td>hundred</td>\n",
       "      <td>ninety</td>\n",
       "      <td>2401</td>\n",
       "    </tr>\n",
       "    <tr>\n",
       "      <th>...</th>\n",
       "      <td>...</td>\n",
       "      <td>...</td>\n",
       "      <td>...</td>\n",
       "      <td>...</td>\n",
       "    </tr>\n",
       "    <tr>\n",
       "      <th>3503267</th>\n",
       "      <td>is</td>\n",
       "      <td>to</td>\n",
       "      <td>speak</td>\n",
       "      <td>1</td>\n",
       "    </tr>\n",
       "    <tr>\n",
       "      <th>3503268</th>\n",
       "      <td>language</td>\n",
       "      <td>of</td>\n",
       "      <td>scripture</td>\n",
       "      <td>1</td>\n",
       "    </tr>\n",
       "    <tr>\n",
       "      <th>3503269</th>\n",
       "      <td>of</td>\n",
       "      <td>scripture</td>\n",
       "      <td>they</td>\n",
       "      <td>1</td>\n",
       "    </tr>\n",
       "    <tr>\n",
       "      <th>3503270</th>\n",
       "      <td>scripture</td>\n",
       "      <td>they</td>\n",
       "      <td>hearkened</td>\n",
       "      <td>1</td>\n",
       "    </tr>\n",
       "    <tr>\n",
       "      <th>3503271</th>\n",
       "      <td>will</td>\n",
       "      <td>cast</td>\n",
       "      <td>away</td>\n",
       "      <td>1</td>\n",
       "    </tr>\n",
       "  </tbody>\n",
       "</table>\n",
       "<p>3503272 rows × 4 columns</p>\n",
       "</div>"
      ],
      "text/plain": [
       "           trigram                        Count\n",
       "0         thousand       nine    hundred   6458\n",
       "1              one   thousand       nine   6354\n",
       "2               in        one   thousand   2672\n",
       "3               in        two   thousand   2446\n",
       "4             nine    hundred     ninety   2401\n",
       "...            ...        ...        ...    ...\n",
       "3503267         is         to      speak      1\n",
       "3503268   language         of  scripture      1\n",
       "3503269         of  scripture       they      1\n",
       "3503270  scripture       they  hearkened      1\n",
       "3503271       will       cast       away      1\n",
       "\n",
       "[3503272 rows x 4 columns]"
      ]
     },
     "execution_count": 34,
     "metadata": {},
     "output_type": "execute_result"
    }
   ],
   "source": [
    "df = pd.DataFrame(data=[(p1, p2, p3, c) for (p1, p2, p3), c in trigrams_counter.items()], columns=['trigram', '', '', 'Count'])\n",
    "df = df.sort_values(by='Count', ascending=False, ignore_index=True)\n",
    "df"
   ]
  },
  {
   "cell_type": "code",
   "execution_count": 35,
   "metadata": {},
   "outputs": [],
   "source": [
    "df.to_csv('trigram_counts.csv', index=False)"
   ]
  },
  {
   "cell_type": "markdown",
   "metadata": {},
   "source": [
    "#### Шаг №6 (аналогично шагу 3)\n",
    "Произвести токенезацию, но уже учитывая знаки препинания:\n",
    "* С помощью nltk.tokenize.RegexpTokenizer."
   ]
  },
  {
   "cell_type": "code",
   "execution_count": 36,
   "metadata": {},
   "outputs": [],
   "source": [
    "tokenizer = RegexpTokenizer('[a-zA-Z0-9_-]+|[()]|\\S+')"
   ]
  },
  {
   "cell_type": "code",
   "execution_count": 37,
   "metadata": {},
   "outputs": [
    {
     "data": {
      "text/plain": [
       "['this',\n",
       " 'new',\n",
       " 'development',\n",
       " 'in',\n",
       " 'harry',\n",
       " \"'s\",\n",
       " 'character',\n",
       " 'may',\n",
       " 'be',\n",
       " 'a',\n",
       " 'disappointment',\n",
       " 'to',\n",
       " 'those',\n",
       " 'readers',\n",
       " 'who',\n",
       " 'enjoyed',\n",
       " 'his',\n",
       " 'old',\n",
       " 'vindictive',\n",
       " 'ways',\n",
       " ',',\n",
       " 'but',\n",
       " 'it',\n",
       " 'also',\n",
       " 'reinforces',\n",
       " 'the',\n",
       " 'position',\n",
       " 'of',\n",
       " 'pro-potter',\n",
       " 'people',\n",
       " 'who',\n",
       " 'do',\n",
       " 'not',\n",
       " 'see',\n",
       " 'beneath',\n",
       " 'the',\n",
       " 'surface',\n",
       " 'appearance',\n",
       " 'of',\n",
       " 'the',\n",
       " 'characters',\n",
       " 'and',\n",
       " 'plots',\n",
       " '.',\n",
       " 'a',\n",
       " 'nondisclosure',\n",
       " 'clause',\n",
       " 'in',\n",
       " 'the',\n",
       " 'final',\n",
       " 'settlement',\n",
       " '(',\n",
       " 'the',\n",
       " 'band',\n",
       " 'is',\n",
       " 'back',\n",
       " 'on',\n",
       " 'elektra',\n",
       " ')',\n",
       " 'prevents',\n",
       " 'ulrich',\n",
       " ',',\n",
       " 'an',\n",
       " 'irrepressible',\n",
       " 'motormouth',\n",
       " ',',\n",
       " 'from',\n",
       " 'providing',\n",
       " 'any',\n",
       " 'juicy',\n",
       " 'contractual',\n",
       " 'details',\n",
       " '.',\n",
       " 'when',\n",
       " 'you',\n",
       " \"'re\",\n",
       " 'eighteen',\n",
       " 'or',\n",
       " 'nineteen',\n",
       " 'years',\n",
       " 'old',\n",
       " ',',\n",
       " 'you',\n",
       " 'have',\n",
       " 'that',\n",
       " 'gang',\n",
       " 'mentality',\n",
       " 'in',\n",
       " 'you']"
      ]
     },
     "execution_count": 37,
     "metadata": {},
     "output_type": "execute_result"
    }
   ],
   "source": [
    "tokenizer.tokenize(text[:500])"
   ]
  },
  {
   "cell_type": "markdown",
   "metadata": {},
   "source": [
    "* С помощью nltk.word_tokenize."
   ]
  },
  {
   "cell_type": "code",
   "execution_count": 38,
   "metadata": {},
   "outputs": [
    {
     "data": {
      "text/plain": [
       "['this',\n",
       " 'new',\n",
       " 'development',\n",
       " 'in',\n",
       " 'harry',\n",
       " \"'s\",\n",
       " 'character',\n",
       " 'may',\n",
       " 'be',\n",
       " 'a',\n",
       " 'disappointment',\n",
       " 'to',\n",
       " 'those',\n",
       " 'readers',\n",
       " 'who',\n",
       " 'enjoyed',\n",
       " 'his',\n",
       " 'old',\n",
       " 'vindictive',\n",
       " 'ways',\n",
       " ',',\n",
       " 'but',\n",
       " 'it',\n",
       " 'also',\n",
       " 'reinforces',\n",
       " 'the',\n",
       " 'position',\n",
       " 'of',\n",
       " 'pro-potter',\n",
       " 'people',\n",
       " 'who',\n",
       " 'do',\n",
       " 'not',\n",
       " 'see',\n",
       " 'beneath',\n",
       " 'the',\n",
       " 'surface',\n",
       " 'appearance',\n",
       " 'of',\n",
       " 'the',\n",
       " 'characters',\n",
       " 'and',\n",
       " 'plots',\n",
       " '.',\n",
       " 'a',\n",
       " 'nondisclosure',\n",
       " 'clause',\n",
       " 'in',\n",
       " 'the',\n",
       " 'final',\n",
       " 'settlement',\n",
       " '(',\n",
       " 'the',\n",
       " 'band',\n",
       " 'is',\n",
       " 'back',\n",
       " 'on',\n",
       " 'elektra',\n",
       " ')',\n",
       " 'prevents',\n",
       " 'ulrich',\n",
       " ',',\n",
       " 'an',\n",
       " 'irrepressible',\n",
       " 'motormouth',\n",
       " ',',\n",
       " 'from',\n",
       " 'providing',\n",
       " 'any',\n",
       " 'juicy',\n",
       " 'contractual',\n",
       " 'details',\n",
       " '.',\n",
       " 'when',\n",
       " 'you',\n",
       " \"'re\",\n",
       " 'eighteen',\n",
       " 'or',\n",
       " 'nineteen',\n",
       " 'years',\n",
       " 'old',\n",
       " ',',\n",
       " 'you',\n",
       " 'have',\n",
       " 'that',\n",
       " 'gang',\n",
       " 'mentality',\n",
       " 'in',\n",
       " 'you']"
      ]
     },
     "execution_count": 38,
     "metadata": {},
     "output_type": "execute_result"
    }
   ],
   "source": [
    "nltk.word_tokenize(text[:500])"
   ]
  },
  {
   "cell_type": "code",
   "execution_count": 39,
   "metadata": {},
   "outputs": [],
   "source": [
    "# too slow\n",
    "# tokens = nltk.word_tokenize(text)"
   ]
  },
  {
   "cell_type": "code",
   "execution_count": 40,
   "metadata": {},
   "outputs": [],
   "source": [
    "tokens = tokenizer.tokenize(text)"
   ]
  },
  {
   "cell_type": "code",
   "execution_count": 41,
   "metadata": {},
   "outputs": [
    {
     "data": {
      "text/plain": [
       "5433010"
      ]
     },
     "execution_count": 41,
     "metadata": {},
     "output_type": "execute_result"
    }
   ],
   "source": [
    "len(tokens)"
   ]
  },
  {
   "cell_type": "markdown",
   "metadata": {},
   "source": [
    "#### Шаг №7 (аналогично шагу 4)\n",
    "Произвести частотный анализ слов."
   ]
  },
  {
   "cell_type": "code",
   "execution_count": 42,
   "metadata": {},
   "outputs": [],
   "source": [
    "counter = dict()\n",
    "for t in tokens:\n",
    "    counter[t] = counter.get(t, 0) + 1"
   ]
  },
  {
   "cell_type": "code",
   "execution_count": 43,
   "metadata": {},
   "outputs": [
    {
     "data": {
      "text/html": [
       "<div>\n",
       "<style scoped>\n",
       "    .dataframe tbody tr th:only-of-type {\n",
       "        vertical-align: middle;\n",
       "    }\n",
       "\n",
       "    .dataframe tbody tr th {\n",
       "        vertical-align: top;\n",
       "    }\n",
       "\n",
       "    .dataframe thead th {\n",
       "        text-align: right;\n",
       "    }\n",
       "</style>\n",
       "<table border=\"1\" class=\"dataframe\">\n",
       "  <thead>\n",
       "    <tr style=\"text-align: right;\">\n",
       "      <th></th>\n",
       "      <th>Word</th>\n",
       "      <th>Count</th>\n",
       "    </tr>\n",
       "  </thead>\n",
       "  <tbody>\n",
       "    <tr>\n",
       "      <th>0</th>\n",
       "      <td>the</td>\n",
       "      <td>328131</td>\n",
       "    </tr>\n",
       "    <tr>\n",
       "      <th>1</th>\n",
       "      <td>,</td>\n",
       "      <td>243427</td>\n",
       "    </tr>\n",
       "    <tr>\n",
       "      <th>2</th>\n",
       "      <td>.</td>\n",
       "      <td>206210</td>\n",
       "    </tr>\n",
       "    <tr>\n",
       "      <th>3</th>\n",
       "      <td>of</td>\n",
       "      <td>181033</td>\n",
       "    </tr>\n",
       "    <tr>\n",
       "      <th>4</th>\n",
       "      <td>and</td>\n",
       "      <td>154794</td>\n",
       "    </tr>\n",
       "    <tr>\n",
       "      <th>...</th>\n",
       "      <td>...</td>\n",
       "      <td>...</td>\n",
       "    </tr>\n",
       "    <tr>\n",
       "      <th>127724</th>\n",
       "      <td>dimness</td>\n",
       "      <td>1</td>\n",
       "    </tr>\n",
       "    <tr>\n",
       "      <th>127725</th>\n",
       "      <td>\"hegemon\"</td>\n",
       "      <td>1</td>\n",
       "    </tr>\n",
       "    <tr>\n",
       "      <th>127726</th>\n",
       "      <td>\"nest</td>\n",
       "      <td>1</td>\n",
       "    </tr>\n",
       "    <tr>\n",
       "      <th>127727</th>\n",
       "      <td>lattes</td>\n",
       "      <td>1</td>\n",
       "    </tr>\n",
       "    <tr>\n",
       "      <th>127728</th>\n",
       "      <td>sub-culture</td>\n",
       "      <td>1</td>\n",
       "    </tr>\n",
       "  </tbody>\n",
       "</table>\n",
       "<p>127729 rows × 2 columns</p>\n",
       "</div>"
      ],
      "text/plain": [
       "               Word   Count\n",
       "0               the  328131\n",
       "1                 ,  243427\n",
       "2                 .  206210\n",
       "3                of  181033\n",
       "4               and  154794\n",
       "...             ...     ...\n",
       "127724      dimness       1\n",
       "127725    \"hegemon\"       1\n",
       "127726        \"nest       1\n",
       "127727       lattes       1\n",
       "127728  sub-culture       1\n",
       "\n",
       "[127729 rows x 2 columns]"
      ]
     },
     "execution_count": 43,
     "metadata": {},
     "output_type": "execute_result"
    }
   ],
   "source": [
    "df = pd.DataFrame(data=list(counter.items()), columns=['Word', 'Count'])\n",
    "df = df.sort_values(by='Count', ascending=False, ignore_index=True)\n",
    "df"
   ]
  },
  {
   "cell_type": "code",
   "execution_count": 44,
   "metadata": {},
   "outputs": [],
   "source": [
    "df.to_csv('word_counts_punct.csv', index=False)"
   ]
  },
  {
   "cell_type": "markdown",
   "metadata": {},
   "source": [
    "#### Шаг №8 (аналогично шагу 5)\n",
    "Произвести частотный анализ N-грам.\n",
    "\n",
    "* Биграм"
   ]
  },
  {
   "cell_type": "code",
   "execution_count": 45,
   "metadata": {},
   "outputs": [],
   "source": [
    "bigrams = list(ngrams(tokens, 2))"
   ]
  },
  {
   "cell_type": "code",
   "execution_count": 46,
   "metadata": {},
   "outputs": [],
   "source": [
    "bigrams_counter = Counter(bigrams)"
   ]
  },
  {
   "cell_type": "code",
   "execution_count": 47,
   "metadata": {},
   "outputs": [
    {
     "data": {
      "text/html": [
       "<div>\n",
       "<style scoped>\n",
       "    .dataframe tbody tr th:only-of-type {\n",
       "        vertical-align: middle;\n",
       "    }\n",
       "\n",
       "    .dataframe tbody tr th {\n",
       "        vertical-align: top;\n",
       "    }\n",
       "\n",
       "    .dataframe thead th {\n",
       "        text-align: right;\n",
       "    }\n",
       "</style>\n",
       "<table border=\"1\" class=\"dataframe\">\n",
       "  <thead>\n",
       "    <tr style=\"text-align: right;\">\n",
       "      <th></th>\n",
       "      <th>bigram</th>\n",
       "      <th></th>\n",
       "      <th>Count</th>\n",
       "    </tr>\n",
       "  </thead>\n",
       "  <tbody>\n",
       "    <tr>\n",
       "      <th>0</th>\n",
       "      <td>of</td>\n",
       "      <td>the</td>\n",
       "      <td>48201</td>\n",
       "    </tr>\n",
       "    <tr>\n",
       "      <th>1</th>\n",
       "      <td>in</td>\n",
       "      <td>the</td>\n",
       "      <td>29048</td>\n",
       "    </tr>\n",
       "    <tr>\n",
       "      <th>2</th>\n",
       "      <td>.</td>\n",
       "      <td>the</td>\n",
       "      <td>28060</td>\n",
       "    </tr>\n",
       "    <tr>\n",
       "      <th>3</th>\n",
       "      <td>,</td>\n",
       "      <td>and</td>\n",
       "      <td>23623</td>\n",
       "    </tr>\n",
       "    <tr>\n",
       "      <th>4</th>\n",
       "      <td>,</td>\n",
       "      <td>the</td>\n",
       "      <td>18034</td>\n",
       "    </tr>\n",
       "    <tr>\n",
       "      <th>...</th>\n",
       "      <td>...</td>\n",
       "      <td>...</td>\n",
       "      <td>...</td>\n",
       "    </tr>\n",
       "    <tr>\n",
       "      <th>1385736</th>\n",
       "      <td>fictitious</td>\n",
       "      <td>lawyers</td>\n",
       "      <td>1</td>\n",
       "    </tr>\n",
       "    <tr>\n",
       "      <th>1385737</th>\n",
       "      <td>lawyers</td>\n",
       "      <td>or</td>\n",
       "      <td>1</td>\n",
       "    </tr>\n",
       "    <tr>\n",
       "      <th>1385738</th>\n",
       "      <td>light</td>\n",
       "      <td>repast</td>\n",
       "      <td>1</td>\n",
       "    </tr>\n",
       "    <tr>\n",
       "      <th>1385739</th>\n",
       "      <td>repast</td>\n",
       "      <td>off</td>\n",
       "      <td>1</td>\n",
       "    </tr>\n",
       "    <tr>\n",
       "      <th>1385740</th>\n",
       "      <td>their</td>\n",
       "      <td>us</td>\n",
       "      <td>1</td>\n",
       "    </tr>\n",
       "  </tbody>\n",
       "</table>\n",
       "<p>1385741 rows × 3 columns</p>\n",
       "</div>"
      ],
      "text/plain": [
       "             bigram           Count\n",
       "0                of      the  48201\n",
       "1                in      the  29048\n",
       "2                 .      the  28060\n",
       "3                 ,      and  23623\n",
       "4                 ,      the  18034\n",
       "...             ...      ...    ...\n",
       "1385736  fictitious  lawyers      1\n",
       "1385737     lawyers       or      1\n",
       "1385738       light   repast      1\n",
       "1385739      repast      off      1\n",
       "1385740       their       us      1\n",
       "\n",
       "[1385741 rows x 3 columns]"
      ]
     },
     "execution_count": 47,
     "metadata": {},
     "output_type": "execute_result"
    }
   ],
   "source": [
    "df = pd.DataFrame(data=[(p1, p2, c) for (p1, p2), c in bigrams_counter.items()], columns=['bigram', '', 'Count'])\n",
    "df = df.sort_values(by='Count', ascending=False, ignore_index=True)\n",
    "df"
   ]
  },
  {
   "cell_type": "code",
   "execution_count": 48,
   "metadata": {},
   "outputs": [],
   "source": [
    "df.to_csv('bigram_counts_punct.csv', index=False)"
   ]
  },
  {
   "cell_type": "markdown",
   "metadata": {},
   "source": [
    "* 3-грам"
   ]
  },
  {
   "cell_type": "code",
   "execution_count": 49,
   "metadata": {},
   "outputs": [],
   "source": [
    "trigrams = list(ngrams(tokens, 3))"
   ]
  },
  {
   "cell_type": "code",
   "execution_count": 50,
   "metadata": {},
   "outputs": [],
   "source": [
    "trigrams_counter = Counter(trigrams)"
   ]
  },
  {
   "cell_type": "code",
   "execution_count": 51,
   "metadata": {},
   "outputs": [
    {
     "data": {
      "text/html": [
       "<div>\n",
       "<style scoped>\n",
       "    .dataframe tbody tr th:only-of-type {\n",
       "        vertical-align: middle;\n",
       "    }\n",
       "\n",
       "    .dataframe tbody tr th {\n",
       "        vertical-align: top;\n",
       "    }\n",
       "\n",
       "    .dataframe thead th {\n",
       "        text-align: right;\n",
       "    }\n",
       "</style>\n",
       "<table border=\"1\" class=\"dataframe\">\n",
       "  <thead>\n",
       "    <tr style=\"text-align: right;\">\n",
       "      <th></th>\n",
       "      <th>trigram</th>\n",
       "      <th></th>\n",
       "      <th></th>\n",
       "      <th>Count</th>\n",
       "    </tr>\n",
       "  </thead>\n",
       "  <tbody>\n",
       "    <tr>\n",
       "      <th>0</th>\n",
       "      <td>thousand</td>\n",
       "      <td>nine</td>\n",
       "      <td>hundred</td>\n",
       "      <td>6457</td>\n",
       "    </tr>\n",
       "    <tr>\n",
       "      <th>1</th>\n",
       "      <td>one</td>\n",
       "      <td>thousand</td>\n",
       "      <td>nine</td>\n",
       "      <td>6136</td>\n",
       "    </tr>\n",
       "    <tr>\n",
       "      <th>2</th>\n",
       "      <td>in</td>\n",
       "      <td>one</td>\n",
       "      <td>thousand</td>\n",
       "      <td>2664</td>\n",
       "    </tr>\n",
       "    <tr>\n",
       "      <th>3</th>\n",
       "      <td>.</td>\n",
       "      <td>it</td>\n",
       "      <td>is</td>\n",
       "      <td>2569</td>\n",
       "    </tr>\n",
       "    <tr>\n",
       "      <th>4</th>\n",
       "      <td>in</td>\n",
       "      <td>two</td>\n",
       "      <td>thousand</td>\n",
       "      <td>2436</td>\n",
       "    </tr>\n",
       "    <tr>\n",
       "      <th>...</th>\n",
       "      <td>...</td>\n",
       "      <td>...</td>\n",
       "      <td>...</td>\n",
       "      <td>...</td>\n",
       "    </tr>\n",
       "    <tr>\n",
       "      <th>3565560</th>\n",
       "      <td>breeders</td>\n",
       "      <td>have</td>\n",
       "      <td>been</td>\n",
       "      <td>1</td>\n",
       "    </tr>\n",
       "    <tr>\n",
       "      <th>3565561</th>\n",
       "      <td>been</td>\n",
       "      <td>breeding</td>\n",
       "      <td>bobtails</td>\n",
       "      <td>1</td>\n",
       "    </tr>\n",
       "    <tr>\n",
       "      <th>3565562</th>\n",
       "      <td>breeding</td>\n",
       "      <td>bobtails</td>\n",
       "      <td>there</td>\n",
       "      <td>1</td>\n",
       "    </tr>\n",
       "    <tr>\n",
       "      <th>3565563</th>\n",
       "      <td>bobtails</td>\n",
       "      <td>there</td>\n",
       "      <td>for</td>\n",
       "      <td>1</td>\n",
       "    </tr>\n",
       "    <tr>\n",
       "      <th>3565564</th>\n",
       "      <td>will</td>\n",
       "      <td>cast</td>\n",
       "      <td>away</td>\n",
       "      <td>1</td>\n",
       "    </tr>\n",
       "  </tbody>\n",
       "</table>\n",
       "<p>3565565 rows × 4 columns</p>\n",
       "</div>"
      ],
      "text/plain": [
       "          trigram                      Count\n",
       "0        thousand      nine   hundred   6457\n",
       "1             one  thousand      nine   6136\n",
       "2              in       one  thousand   2664\n",
       "3               .        it        is   2569\n",
       "4              in       two  thousand   2436\n",
       "...           ...       ...       ...    ...\n",
       "3565560  breeders      have      been      1\n",
       "3565561      been  breeding  bobtails      1\n",
       "3565562  breeding  bobtails     there      1\n",
       "3565563  bobtails     there       for      1\n",
       "3565564      will      cast      away      1\n",
       "\n",
       "[3565565 rows x 4 columns]"
      ]
     },
     "execution_count": 51,
     "metadata": {},
     "output_type": "execute_result"
    }
   ],
   "source": [
    "df = pd.DataFrame(data=[(p1, p2, p3, c) for (p1, p2, p3), c in trigrams_counter.items()], columns=['trigram', '', '', 'Count'])\n",
    "df = df.sort_values(by='Count', ascending=False, ignore_index=True)\n",
    "df"
   ]
  },
  {
   "cell_type": "code",
   "execution_count": 52,
   "metadata": {},
   "outputs": [],
   "source": [
    "df.to_csv('trigram_counts_punct.csv', index=False)"
   ]
  },
  {
   "cell_type": "markdown",
   "metadata": {},
   "source": [
    "#### Шаг №9 (используя результаты 5-го шага)\n",
    "Произвести генерацию текса на основе частот биграм. "
   ]
  },
  {
   "cell_type": "code",
   "execution_count": 53,
   "metadata": {},
   "outputs": [],
   "source": [
    "# вставьте код здесь"
   ]
  },
  {
   "cell_type": "code",
   "execution_count": 54,
   "metadata": {},
   "outputs": [],
   "source": [
    "from collections import Counter\n",
    "\n",
    "import numpy as np\n",
    "import pandas as pd\n",
    "\n",
    "from nltk import ngrams\n",
    "from nltk.tokenize import RegexpTokenizer"
   ]
  },
  {
   "cell_type": "code",
   "execution_count": 55,
   "metadata": {},
   "outputs": [],
   "source": [
    "def choice(source: np.ndarray, weights: np.ndarray, rule='random'):\n",
    "    # print(np.sum(weights))\n",
    "    if np.sum(weights) == 0:\n",
    "        raise ValueError(\"Cannot choose anymore\")\n",
    "        \n",
    "    if rule == 'max':\n",
    "        return source[np.argmax(weights)]\n",
    "    \n",
    "    prob = weights / np.sum(weights)\n",
    "    # print(np.sum(prob))\n",
    "    return np.random.choice(source, p=prob)"
   ]
  },
  {
   "cell_type": "code",
   "execution_count": 56,
   "metadata": {},
   "outputs": [],
   "source": [
    "text = text_[:30*10**6]"
   ]
  },
  {
   "cell_type": "code",
   "execution_count": 57,
   "metadata": {},
   "outputs": [],
   "source": [
    "tokenizer = RegexpTokenizer('[a-zA-Z0-9_-]+|[().\\/$\"]|\\S+')"
   ]
  },
  {
   "cell_type": "code",
   "execution_count": 58,
   "metadata": {},
   "outputs": [],
   "source": [
    "tokens = tokenizer.tokenize(text)"
   ]
  },
  {
   "cell_type": "code",
   "execution_count": 59,
   "metadata": {},
   "outputs": [
    {
     "data": {
      "text/html": [
       "<div>\n",
       "<style scoped>\n",
       "    .dataframe tbody tr th:only-of-type {\n",
       "        vertical-align: middle;\n",
       "    }\n",
       "\n",
       "    .dataframe tbody tr th {\n",
       "        vertical-align: top;\n",
       "    }\n",
       "\n",
       "    .dataframe thead th {\n",
       "        text-align: right;\n",
       "    }\n",
       "</style>\n",
       "<table border=\"1\" class=\"dataframe\">\n",
       "  <thead>\n",
       "    <tr style=\"text-align: right;\">\n",
       "      <th></th>\n",
       "      <th>bigram</th>\n",
       "      <th></th>\n",
       "      <th>Count</th>\n",
       "    </tr>\n",
       "  </thead>\n",
       "  <tbody>\n",
       "    <tr>\n",
       "      <th>0</th>\n",
       "      <td>of</td>\n",
       "      <td>the</td>\n",
       "      <td>48207</td>\n",
       "    </tr>\n",
       "    <tr>\n",
       "      <th>1</th>\n",
       "      <td>in</td>\n",
       "      <td>the</td>\n",
       "      <td>29071</td>\n",
       "    </tr>\n",
       "    <tr>\n",
       "      <th>2</th>\n",
       "      <td>.</td>\n",
       "      <td>the</td>\n",
       "      <td>28460</td>\n",
       "    </tr>\n",
       "    <tr>\n",
       "      <th>3</th>\n",
       "      <td>,</td>\n",
       "      <td>and</td>\n",
       "      <td>23758</td>\n",
       "    </tr>\n",
       "    <tr>\n",
       "      <th>4</th>\n",
       "      <td>,</td>\n",
       "      <td>the</td>\n",
       "      <td>18158</td>\n",
       "    </tr>\n",
       "    <tr>\n",
       "      <th>...</th>\n",
       "      <td>...</td>\n",
       "      <td>...</td>\n",
       "      <td>...</td>\n",
       "    </tr>\n",
       "    <tr>\n",
       "      <th>1366097</th>\n",
       "      <td>peripheral</td>\n",
       "      <td>area</td>\n",
       "      <td>1</td>\n",
       "    </tr>\n",
       "    <tr>\n",
       "      <th>1366098</th>\n",
       "      <td>surrounding</td>\n",
       "      <td>cultures</td>\n",
       "      <td>1</td>\n",
       "    </tr>\n",
       "    <tr>\n",
       "      <th>1366099</th>\n",
       "      <td>cultures</td>\n",
       "      <td>fills</td>\n",
       "      <td>1</td>\n",
       "    </tr>\n",
       "    <tr>\n",
       "      <th>1366100</th>\n",
       "      <td>fills</td>\n",
       "      <td>several</td>\n",
       "      <td>1</td>\n",
       "    </tr>\n",
       "    <tr>\n",
       "      <th>1366101</th>\n",
       "      <td>their</td>\n",
       "      <td>us</td>\n",
       "      <td>1</td>\n",
       "    </tr>\n",
       "  </tbody>\n",
       "</table>\n",
       "<p>1366102 rows × 3 columns</p>\n",
       "</div>"
      ],
      "text/plain": [
       "              bigram            Count\n",
       "0                 of       the  48207\n",
       "1                 in       the  29071\n",
       "2                  .       the  28460\n",
       "3                  ,       and  23758\n",
       "4                  ,       the  18158\n",
       "...              ...       ...    ...\n",
       "1366097   peripheral      area      1\n",
       "1366098  surrounding  cultures      1\n",
       "1366099     cultures     fills      1\n",
       "1366100        fills   several      1\n",
       "1366101        their        us      1\n",
       "\n",
       "[1366102 rows x 3 columns]"
      ]
     },
     "execution_count": 59,
     "metadata": {},
     "output_type": "execute_result"
    }
   ],
   "source": [
    "bigrams = list(ngrams(tokens, 2))\n",
    "bigrams_counter = Counter(bigrams)\n",
    "df = pd.DataFrame(data=[(p1, p2, c) for (p1, p2), c in bigrams_counter.items()], columns=['bigram', '', 'Count'])\n",
    "df = df.sort_values(by='Count', ascending=False, ignore_index=True)\n",
    "df"
   ]
  },
  {
   "cell_type": "code",
   "execution_count": 60,
   "metadata": {},
   "outputs": [],
   "source": [
    "total_bigrams_count = df['Count'].sum()"
   ]
  },
  {
   "cell_type": "code",
   "execution_count": 61,
   "metadata": {},
   "outputs": [],
   "source": [
    "word_by_index = np.unique(tokens)\n",
    "\n",
    "index_by_word = {}\n",
    "for i in range(len(word_by_index)):\n",
    "    index_by_word[word_by_index[i]] = i"
   ]
  },
  {
   "cell_type": "code",
   "execution_count": null,
   "metadata": {},
   "outputs": [],
   "source": []
  },
  {
   "cell_type": "code",
   "execution_count": 62,
   "metadata": {},
   "outputs": [
    {
     "name": "stdout",
     "output_type": "stream",
     "text": [
      "of the same time , and the world . the first time . in the most of a new york , the united states , but the new and a few years . it is a lot of this is the russian federation . this year . \" the government of their own . i have been a number of all the state of our own , which is not only the country . we have a result of his own country , in a very important to the other countries . but it was a good , as a great britain , it . a single , a large number , or the international community . if you can be a little bit of its own way to be the one thousand nine hundred ninety nine . and other hand , we are not be able to a small and to make a long as the right to do not to have to take a year , i was the company , you are the two thousand eight hundred fifty six . he was not a more than the following the end of these are in one hundred eighty nine , to use of two . as well as an important for the last year of an international organizations , including the time to get the main thing is to see the next to provide a special rapporteur on the national and in two hundred seventy five . they are also be used to this , with the second , he had been the number . for a ) . there is that the best to ensure that is also the fact that it 's a . one of them . you have the european union . . when the "
     ]
    }
   ],
   "source": [
    "freq_matrix = np.zeros(shape=(len(word_by_index), len(word_by_index)), dtype=np.float16)\n",
    "for i, (word1, word2, count) in df.iterrows():\n",
    "    try:\n",
    "        freq_matrix[index_by_word[word1], index_by_word[word2]] = count\n",
    "    except:\n",
    "        print(word1, word2, count)\n",
    "freq_matrix /= total_bigrams_count\n",
    "\n",
    "rule = 'max'\n",
    "\n",
    "start_word = 'of'\n",
    "\n",
    "print(start_word, end=' ')\n",
    "\n",
    "start_word_id = index_by_word[start_word]\n",
    "\n",
    "word_id = start_word_id\n",
    "next_id = None\n",
    "\n",
    "ans_ids = []\n",
    "# freq_matrix_ = np.array(freq_matrix)\n",
    "\n",
    "try:\n",
    "    for it in range(300):\n",
    "        row = freq_matrix[word_id]\n",
    "        nonzero_locations = np.where(row)[0]\n",
    "        next_id = choice(source=nonzero_locations, weights=row[nonzero_locations], rule=rule)\n",
    "        if rule == 'max':\n",
    "            freq_matrix[word_id, next_id] = 0  # one pair can only be used once\n",
    "        ans_ids.append(next_id)\n",
    "        print(word_by_index[next_id], end=' ')\n",
    "        word_id = next_id\n",
    "except ValueError as e:\n",
    "    print()\n",
    "    print(\"STOP:\", e)"
   ]
  },
  {
   "cell_type": "code",
   "execution_count": 63,
   "metadata": {},
   "outputs": [
    {
     "name": "stdout",
     "output_type": "stream",
     "text": [
      "of the highest known vasily alexanyan , shampoo , but as unit to be at least as well should be a multifaceted than triple turnover has tried to higher life in order to the universe and innovation forum and putin 's life and means not know . built by our inner life is a muscular exertion made no effect of them priority areas that further consideration of orthopaedics at the crowded minibus . the existence of such risks . the number two . on the duty of prayer that 's guidance and risk diversification of the region . after a city pretentiously named damaris , making use , she could indeed arrive at the father are asked to return from the polling places women had predicted to mercy of nato 's findings contained in midnovember , as these two churches . the body implemented with legal and graduate student scientific and policies set the author of foreign mission , at this to light , udf , almost synonymous with the thirty six in the restoration of the latter commented on behalf . zoom whitening . complete . some one one thousand nine ) take on the game itself in height of being considered in persons . be verified experimentally determine evacuation day when there . the cftc has summed up his / two thousand years ago , is left in law , for the artread function . . one . contradictions and other cases and negligence of a list of the attempt by bashavtotrans , bricks , and at the chinese police for example , they 're willing to . law of time as for example , with russia ? this group showed a single set . put before they were almost unconscious ,\" said to do not accidental submissions that "
     ]
    }
   ],
   "source": [
    "freq_matrix[...] = 0\n",
    "for i, (word1, word2, count) in df.iterrows():\n",
    "    try:\n",
    "        freq_matrix[index_by_word[word1], index_by_word[word2]] = count\n",
    "    except:\n",
    "        print(word1, word2, count)\n",
    "freq_matrix /= total_bigrams_count\n",
    "        \n",
    "rule = 'random'\n",
    "\n",
    "start_word = 'of'\n",
    "\n",
    "print(start_word, end=' ')\n",
    "\n",
    "start_word_id = index_by_word[start_word]\n",
    "\n",
    "word_id = start_word_id\n",
    "next_id = None\n",
    "\n",
    "ans_ids = []\n",
    "# freq_matrix_ = np.array(freq_matrix)\n",
    "\n",
    "try:\n",
    "    for it in range(300):\n",
    "        row = freq_matrix[word_id]\n",
    "        nonzero_locations = np.where(row)[0]\n",
    "        next_id = choice(source=nonzero_locations, weights=row[nonzero_locations], rule=rule)\n",
    "        if rule == 'max':\n",
    "            freq_matrix[word_id, next_id] = 0  # one pair can only be used once\n",
    "        ans_ids.append(next_id)\n",
    "        print(word_by_index[next_id], end=' ')\n",
    "        word_id = next_id\n",
    "except ValueError as e:\n",
    "    print()\n",
    "    print(\"STOP:\", e)"
   ]
  },
  {
   "cell_type": "code",
   "execution_count": 64,
   "metadata": {},
   "outputs": [
    {
     "data": {
      "text/plain": [
       "14339823001"
      ]
     },
     "execution_count": 64,
     "metadata": {},
     "output_type": "execute_result"
    }
   ],
   "source": [
    "freq_matrix.size"
   ]
  },
  {
   "cell_type": "code",
   "execution_count": null,
   "metadata": {},
   "outputs": [],
   "source": []
  }
 ],
 "metadata": {
  "kernelspec": {
   "display_name": "Python 3 (ipykernel)",
   "language": "python",
   "name": "python3"
  },
  "language_info": {
   "codemirror_mode": {
    "name": "ipython",
    "version": 3
   },
   "file_extension": ".py",
   "mimetype": "text/x-python",
   "name": "python",
   "nbconvert_exporter": "python",
   "pygments_lexer": "ipython3",
   "version": "3.10.6"
  }
 },
 "nbformat": 4,
 "nbformat_minor": 4
}
